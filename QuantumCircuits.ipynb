{
 "cells": [
  {
   "cell_type": "code",
   "execution_count": null,
   "metadata": {},
   "outputs": [],
   "source": [
    "from qiskit import QuantumCircuit\n",
    "from qutip_qip.qiskit import QiskitPulseSimulator, QiskitCircuitSimulator\n",
    "from qiskit.compiler import transpile"
   ]
  },
  {
   "cell_type": "code",
   "execution_count": null,
   "metadata": {},
   "outputs": [],
   "source": [
    "%run NeutralAtomProcessor.ipynb"
   ]
  },
  {
   "cell_type": "code",
   "execution_count": null,
   "metadata": {},
   "outputs": [],
   "source": [
    "def plot_populations(pulse_result, qiskit_result):\n",
    "    num_qubits = pulse_result.data()['statevector'].num_qubits\n",
    "    xlabels = [bin(state)[2:] for state in range(np.power(2, num_qubits))]\n",
    "    ig, axs = matplotlib.pyplot.subplots()\n",
    "    pulse_state = pulse_result.data()['statevector'].data\n",
    "    index = np.arange(len(xlabels))\n",
    "    bar_width = 0.2\n",
    "    axs.set_title('Simulation Results')\n",
    "    axs.bar(index - bar_width/2, abs(pulse_state)**2, bar_width, color='b', alpha=0.7, label='Neutral Atom Simulation')\n",
    "    axs.set_xlabel(\"State\"), axs.set_ylabel(\"Probability\")\n",
    "    axs.set_ylim(0,1.0)\n",
    "\n",
    "    qiskit_state = qiskit_result.data()['statevector'].data\n",
    "    axs.bar(index + bar_width/2, abs(qiskit_state)**2, bar_width, color='r', alpha=0.7, label='Qiskit')\n",
    "    axs.legend()\n",
    "    axs.set_xticks(index)\n",
    "    axs.set_xticklabels(xlabels)\n",
    "    return"
   ]
  },
  {
   "cell_type": "code",
   "execution_count": null,
   "metadata": {},
   "outputs": [],
   "source": [
    "processor = NeutralAtomProcessor(2)\n",
    "pulse_backend = QiskitPulseSimulator(processor)\n",
    "qiskit_backend = QiskitCircuitSimulator()\n",
    "\n",
    "def run(circuit, pulse_backend, qiskit_backend):\n",
    "    pulse_job = pulse_backend.run(circ_tr)\n",
    "    qiskit_job = qiskit_backend.run(circ_tr)\n",
    "\n",
    "    pulse_result = pulse_job.result()\n",
    "    qiskit_result = qiskit_job.result()\n",
    "\n",
    "    plot_populations(pulse_result, qiskit_result)   "
   ]
  },
  {
   "cell_type": "code",
   "execution_count": null,
   "metadata": {},
   "outputs": [],
   "source": [
    "circ = QuantumCircuit(2)\n",
    "circ.h(0)\n",
    "circ.cx(0,1)\n",
    "#processor.cz_gate.omega *= 2\n",
    "#processor.cz_gate.delta *= 2\n",
    "processor.cz_gate.T*=2\n",
    "processor.cz_gate.tau*=2\n",
    "circ_tr = transpile(circ ,basis_gates=processor.native_gate_set, optimization_level=0)\n",
    "run(circ_tr, pulse_backend, qiskit_backend)"
   ]
  }
 ],
 "metadata": {
  "kernelspec": {
   "display_name": "quantum-computing-env",
   "language": "python",
   "name": "python3"
  },
  "language_info": {
   "codemirror_mode": {
    "name": "ipython",
    "version": 3
   },
   "file_extension": ".py",
   "mimetype": "text/x-python",
   "name": "python",
   "nbconvert_exporter": "python",
   "pygments_lexer": "ipython3",
   "version": "3.12.4"
  }
 },
 "nbformat": 4,
 "nbformat_minor": 2
}
