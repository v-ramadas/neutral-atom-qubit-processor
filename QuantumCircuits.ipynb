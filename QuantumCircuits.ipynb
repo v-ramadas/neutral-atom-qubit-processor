{
 "cells": [
  {
   "cell_type": "code",
   "execution_count": 3,
   "metadata": {},
   "outputs": [],
   "source": [
    "from qiskit import QuantumCircuit\n",
    "from qutip_qip.qiskit import QiskitPulseSimulator, QiskitCircuitSimulator\n",
    "from qiskit.compiler import transpile"
   ]
  },
  {
   "cell_type": "code",
   "execution_count": 65,
   "metadata": {},
   "outputs": [],
   "source": [
    "%run NeutralAtomProcessor.ipynb"
   ]
  },
  {
   "cell_type": "code",
   "execution_count": 69,
   "metadata": {},
   "outputs": [],
   "source": [
    "def plot_populations(pulse_result, qiskit_result):\n",
    "    num_qubits = pulse_result.data()['statevector'].num_qubits\n",
    "    xlabels = [bin(state)[2:] for state in range(np.power(2, num_qubits))]\n",
    "    ig, axs = matplotlib.pyplot.subplots()\n",
    "    pulse_state = pulse_result.data()['statevector'].data\n",
    "    index = np.arange(len(xlabels))\n",
    "    bar_width = 0.2\n",
    "    axs.set_title('Simulation Results')\n",
    "    axs.bar(index - bar_width/2, abs(pulse_state)**2, bar_width, color='b', alpha=0.7, label='Neutral Atom Simulation')\n",
    "    axs.set_xlabel(\"State\"), axs.set_ylabel(\"Probability\")\n",
    "    axs.set_ylim(0,1.0)\n",
    "\n",
    "    qiskit_state = qiskit_result.data()['statevector'].data\n",
    "    axs.bar(index + bar_width/2, abs(qiskit_state)**2, bar_width, color='r', alpha=0.7, label='Qiskit')\n",
    "    axs.legend()\n",
    "    axs.set_xticks(index)\n",
    "    axs.set_xticklabels(xlabels)\n",
    "    return"
   ]
  },
  {
   "cell_type": "code",
   "execution_count": 66,
   "metadata": {},
   "outputs": [],
   "source": [
    "processor = NeutralAtomProcessor(2)\n",
    "pulse_backend = QiskitPulseSimulator(processor)\n",
    "qiskit_backend = QiskitCircuitSimulator()\n",
    "\n",
    "def run(circuit, pulse_backend, qiskit_backend):\n",
    "    pulse_job = pulse_backend.run(circ_tr)\n",
    "    qiskit_job = qiskit_backend.run(circ_tr)\n",
    "\n",
    "    pulse_result = pulse_job.result()\n",
    "    qiskit_result = qiskit_job.result()\n",
    "\n",
    "    plot_populations(pulse_result, qiskit_result)   "
   ]
  },
  {
   "cell_type": "code",
   "execution_count": 76,
   "metadata": {},
   "outputs": [
    {
     "name": "stdout",
     "output_type": "stream",
     "text": [
      "Circuit has  10  gates after transpiling\n"
     ]
    },
    {
     "ename": "IntegratorException",
     "evalue": "Excess work done on this call. Try to increasing the nsteps parameter in the Options class",
     "output_type": "error",
     "traceback": [
      "\u001b[0;31m---------------------------------------------------------------------------\u001b[0m",
      "\u001b[0;31mIntegratorException\u001b[0m                       Traceback (most recent call last)",
      "Cell \u001b[0;32mIn[76], line 9\u001b[0m\n\u001b[1;32m      7\u001b[0m processor\u001b[38;5;241m.\u001b[39mcz_gate\u001b[38;5;241m.\u001b[39mtau\u001b[38;5;241m*\u001b[39m\u001b[38;5;241m=\u001b[39m\u001b[38;5;241m2\u001b[39m\n\u001b[1;32m      8\u001b[0m circ_tr \u001b[38;5;241m=\u001b[39m transpile(circ ,basis_gates\u001b[38;5;241m=\u001b[39mprocessor\u001b[38;5;241m.\u001b[39mnative_gate_set, optimization_level\u001b[38;5;241m=\u001b[39m\u001b[38;5;241m0\u001b[39m)\n\u001b[0;32m----> 9\u001b[0m \u001b[43mrun\u001b[49m\u001b[43m(\u001b[49m\u001b[43mcirc_tr\u001b[49m\u001b[43m,\u001b[49m\u001b[43m \u001b[49m\u001b[43mpulse_backend\u001b[49m\u001b[43m,\u001b[49m\u001b[43m \u001b[49m\u001b[43mqiskit_backend\u001b[49m\u001b[43m)\u001b[49m\n",
      "Cell \u001b[0;32mIn[66], line 6\u001b[0m, in \u001b[0;36mrun\u001b[0;34m(circuit, pulse_backend, qiskit_backend)\u001b[0m\n\u001b[1;32m      5\u001b[0m \u001b[38;5;28;01mdef\u001b[39;00m \u001b[38;5;21mrun\u001b[39m(circuit, pulse_backend, qiskit_backend):\n\u001b[0;32m----> 6\u001b[0m     pulse_job \u001b[38;5;241m=\u001b[39m \u001b[43mpulse_backend\u001b[49m\u001b[38;5;241;43m.\u001b[39;49m\u001b[43mrun\u001b[49m\u001b[43m(\u001b[49m\u001b[43mcirc_tr\u001b[49m\u001b[43m)\u001b[49m\n\u001b[1;32m      7\u001b[0m     qiskit_job \u001b[38;5;241m=\u001b[39m qiskit_backend\u001b[38;5;241m.\u001b[39mrun(circ_tr)\n\u001b[1;32m      9\u001b[0m     pulse_result \u001b[38;5;241m=\u001b[39m pulse_job\u001b[38;5;241m.\u001b[39mresult()\n",
      "File \u001b[0;32m~/Workspace/PHY707/quantum-computing-env/lib/python3.12/site-packages/qutip_qip/qiskit/backend.py:95\u001b[0m, in \u001b[0;36mQiskitSimulatorBase.run\u001b[0;34m(self, qiskit_circuit, **run_options)\u001b[0m\n\u001b[1;32m     85\u001b[0m qutip_circ \u001b[38;5;241m=\u001b[39m convert_qiskit_circuit(\n\u001b[1;32m     86\u001b[0m     qiskit_circuit,\n\u001b[1;32m     87\u001b[0m     allow_custom_gate\u001b[38;5;241m=\u001b[39m\u001b[38;5;28mself\u001b[39m\u001b[38;5;241m.\u001b[39moptions\u001b[38;5;241m.\u001b[39mallow_custom_gate,\n\u001b[1;32m     88\u001b[0m )\n\u001b[1;32m     90\u001b[0m job_id \u001b[38;5;241m=\u001b[39m \u001b[38;5;28mstr\u001b[39m(uuid\u001b[38;5;241m.\u001b[39muuid4())\n\u001b[1;32m     92\u001b[0m job \u001b[38;5;241m=\u001b[39m Job(\n\u001b[1;32m     93\u001b[0m     backend\u001b[38;5;241m=\u001b[39m\u001b[38;5;28mself\u001b[39m,\n\u001b[1;32m     94\u001b[0m     job_id\u001b[38;5;241m=\u001b[39mjob_id,\n\u001b[0;32m---> 95\u001b[0m     result\u001b[38;5;241m=\u001b[39m\u001b[38;5;28;43mself\u001b[39;49m\u001b[38;5;241;43m.\u001b[39;49m\u001b[43m_run_job\u001b[49m\u001b[43m(\u001b[49m\u001b[43mjob_id\u001b[49m\u001b[43m,\u001b[49m\u001b[43m \u001b[49m\u001b[43mqutip_circ\u001b[49m\u001b[43m)\u001b[49m,\n\u001b[1;32m     96\u001b[0m )\n\u001b[1;32m     97\u001b[0m \u001b[38;5;28;01mreturn\u001b[39;00m job\n",
      "File \u001b[0;32m~/Workspace/PHY707/quantum-computing-env/lib/python3.12/site-packages/qutip_qip/qiskit/backend.py:429\u001b[0m, in \u001b[0;36mQiskitPulseSimulator._run_job\u001b[0;34m(self, job_id, qutip_circuit)\u001b[0m\n\u001b[1;32m    426\u001b[0m zero_state \u001b[38;5;241m=\u001b[39m \u001b[38;5;28mself\u001b[39m\u001b[38;5;241m.\u001b[39mprocessor\u001b[38;5;241m.\u001b[39mgenerate_init_processor_state()\n\u001b[1;32m    428\u001b[0m \u001b[38;5;28mself\u001b[39m\u001b[38;5;241m.\u001b[39mprocessor\u001b[38;5;241m.\u001b[39mload_circuit(qutip_circuit)\n\u001b[0;32m--> 429\u001b[0m result \u001b[38;5;241m=\u001b[39m \u001b[38;5;28;43mself\u001b[39;49m\u001b[38;5;241;43m.\u001b[39;49m\u001b[43mprocessor\u001b[49m\u001b[38;5;241;43m.\u001b[39;49m\u001b[43mrun_state\u001b[49m\u001b[43m(\u001b[49m\u001b[43mzero_state\u001b[49m\u001b[43m)\u001b[49m\n\u001b[1;32m    431\u001b[0m final_state \u001b[38;5;241m=\u001b[39m \u001b[38;5;28mself\u001b[39m\u001b[38;5;241m.\u001b[39mprocessor\u001b[38;5;241m.\u001b[39mget_final_circuit_state(result\u001b[38;5;241m.\u001b[39mstates[\u001b[38;5;241m-\u001b[39m\u001b[38;5;241m1\u001b[39m])\n\u001b[1;32m    433\u001b[0m \u001b[38;5;28;01mreturn\u001b[39;00m \u001b[38;5;28mself\u001b[39m\u001b[38;5;241m.\u001b[39m_parse_results(\n\u001b[1;32m    434\u001b[0m     final_state\u001b[38;5;241m=\u001b[39mfinal_state, job_id\u001b[38;5;241m=\u001b[39mjob_id, qutip_circuit\u001b[38;5;241m=\u001b[39mqutip_circuit\n\u001b[1;32m    435\u001b[0m )\n",
      "File \u001b[0;32m/var/folders/j6/zf60cb1n0_x_w814lcty0pr00000gn/T/ipykernel_77374/2660588624.py:72\u001b[0m, in \u001b[0;36mNeutralAtomProcessor.run_state\u001b[0;34m(self, init_state)\u001b[0m\n\u001b[1;32m     70\u001b[0m     control_qubit \u001b[38;5;241m=\u001b[39m \u001b[38;5;28mint\u001b[39m(\u001b[38;5;28mself\u001b[39m\u001b[38;5;241m.\u001b[39mcontrol_qubits[i])\n\u001b[1;32m     71\u001b[0m     args \u001b[38;5;241m=\u001b[39m {\u001b[38;5;124m'\u001b[39m\u001b[38;5;124mself\u001b[39m\u001b[38;5;124m'\u001b[39m:\u001b[38;5;28mself\u001b[39m\u001b[38;5;241m.\u001b[39mcz_gate\u001b[38;5;241m.\u001b[39mHamiltonain, \u001b[38;5;124m'\u001b[39m\u001b[38;5;124mcontrol_qubit\u001b[39m\u001b[38;5;124m'\u001b[39m: control_qubit, \u001b[38;5;124m'\u001b[39m\u001b[38;5;124mtarget_qubit\u001b[39m\u001b[38;5;124m'\u001b[39m: target_qubit}\n\u001b[0;32m---> 72\u001b[0m     result \u001b[38;5;241m=\u001b[39m \u001b[43mmesolve\u001b[49m\u001b[43m(\u001b[49m\u001b[43m[\u001b[49m\u001b[38;5;28;43mself\u001b[39;49m\u001b[38;5;241;43m.\u001b[39;49m\u001b[43mcz_gate\u001b[49m\u001b[38;5;241;43m.\u001b[39;49m\u001b[43mHamiltonain\u001b[49m\u001b[43m]\u001b[49m\u001b[43m,\u001b[49m\u001b[43m \u001b[49m\u001b[43mstate\u001b[49m\u001b[43m,\u001b[49m\u001b[43m \u001b[49m\u001b[43mtimes\u001b[49m\u001b[43m,\u001b[49m\u001b[43m \u001b[49m\u001b[43m[\u001b[49m\u001b[38;5;28;43mself\u001b[39;49m\u001b[38;5;241;43m.\u001b[39;49m\u001b[43mc_ops\u001b[49m\u001b[43m]\u001b[49m\u001b[43m,\u001b[49m\u001b[43m \u001b[49m\u001b[43m[\u001b[49m\u001b[43m]\u001b[49m\u001b[43m,\u001b[49m\u001b[43m \u001b[49m\u001b[43margs\u001b[49m\u001b[43m \u001b[49m\u001b[38;5;241;43m=\u001b[39;49m\u001b[43m \u001b[49m\u001b[43margs\u001b[49m\u001b[43m)\u001b[49m\n\u001b[1;32m     73\u001b[0m     state \u001b[38;5;241m=\u001b[39m result\u001b[38;5;241m.\u001b[39mstates[\u001b[38;5;241m-\u001b[39m\u001b[38;5;241m1\u001b[39m]\n\u001b[1;32m     74\u001b[0m \u001b[38;5;28;01melif\u001b[39;00m gate\u001b[38;5;241m.\u001b[39mlower() \u001b[38;5;241m==\u001b[39m \u001b[38;5;124m\"\u001b[39m\u001b[38;5;124mmeasure\u001b[39m\u001b[38;5;124m\"\u001b[39m:\n",
      "File \u001b[0;32m~/Workspace/PHY707/quantum-computing-env/lib/python3.12/site-packages/qutip/solver/mesolve.py:147\u001b[0m, in \u001b[0;36mmesolve\u001b[0;34m(H, rho0, tlist, c_ops, e_ops, args, options, **kwargs)\u001b[0m\n\u001b[1;32m    142\u001b[0m     \u001b[38;5;28;01mreturn\u001b[39;00m sesolve(H, rho0, tlist, e_ops\u001b[38;5;241m=\u001b[39me_ops, args\u001b[38;5;241m=\u001b[39margs,\n\u001b[1;32m    143\u001b[0m                    options\u001b[38;5;241m=\u001b[39moptions)\n\u001b[1;32m    145\u001b[0m solver \u001b[38;5;241m=\u001b[39m MESolver(H, c_ops, options\u001b[38;5;241m=\u001b[39moptions)\n\u001b[0;32m--> 147\u001b[0m \u001b[38;5;28;01mreturn\u001b[39;00m \u001b[43msolver\u001b[49m\u001b[38;5;241;43m.\u001b[39;49m\u001b[43mrun\u001b[49m\u001b[43m(\u001b[49m\u001b[43mrho0\u001b[49m\u001b[43m,\u001b[49m\u001b[43m \u001b[49m\u001b[43mtlist\u001b[49m\u001b[43m,\u001b[49m\u001b[43m \u001b[49m\u001b[43me_ops\u001b[49m\u001b[38;5;241;43m=\u001b[39;49m\u001b[43me_ops\u001b[49m\u001b[43m)\u001b[49m\n",
      "File \u001b[0;32m~/Workspace/PHY707/quantum-computing-env/lib/python3.12/site-packages/qutip/solver/solver_base.py:177\u001b[0m, in \u001b[0;36mSolver.run\u001b[0;34m(self, state0, tlist, args, e_ops)\u001b[0m\n\u001b[1;32m    172\u001b[0m stats[\u001b[38;5;124m'\u001b[39m\u001b[38;5;124mpreparation time\u001b[39m\u001b[38;5;124m'\u001b[39m] \u001b[38;5;241m+\u001b[39m\u001b[38;5;241m=\u001b[39m time() \u001b[38;5;241m-\u001b[39m _time_start\n\u001b[1;32m    174\u001b[0m progress_bar \u001b[38;5;241m=\u001b[39m progress_bars[\u001b[38;5;28mself\u001b[39m\u001b[38;5;241m.\u001b[39moptions[\u001b[38;5;124m'\u001b[39m\u001b[38;5;124mprogress_bar\u001b[39m\u001b[38;5;124m'\u001b[39m]](\n\u001b[1;32m    175\u001b[0m     \u001b[38;5;28mlen\u001b[39m(tlist)\u001b[38;5;241m-\u001b[39m\u001b[38;5;241m1\u001b[39m, \u001b[38;5;241m*\u001b[39m\u001b[38;5;241m*\u001b[39m\u001b[38;5;28mself\u001b[39m\u001b[38;5;241m.\u001b[39moptions[\u001b[38;5;124m'\u001b[39m\u001b[38;5;124mprogress_kwargs\u001b[39m\u001b[38;5;124m'\u001b[39m]\n\u001b[1;32m    176\u001b[0m )\n\u001b[0;32m--> 177\u001b[0m \u001b[43m\u001b[49m\u001b[38;5;28;43;01mfor\u001b[39;49;00m\u001b[43m \u001b[49m\u001b[43mt\u001b[49m\u001b[43m,\u001b[49m\u001b[43m \u001b[49m\u001b[43mstate\u001b[49m\u001b[43m \u001b[49m\u001b[38;5;129;43;01min\u001b[39;49;00m\u001b[43m \u001b[49m\u001b[38;5;28;43mself\u001b[39;49m\u001b[38;5;241;43m.\u001b[39;49m\u001b[43m_integrator\u001b[49m\u001b[38;5;241;43m.\u001b[39;49m\u001b[43mrun\u001b[49m\u001b[43m(\u001b[49m\u001b[43mtlist\u001b[49m\u001b[43m)\u001b[49m\u001b[43m:\u001b[49m\n\u001b[1;32m    178\u001b[0m \u001b[43m    \u001b[49m\u001b[43mprogress_bar\u001b[49m\u001b[38;5;241;43m.\u001b[39;49m\u001b[43mupdate\u001b[49m\u001b[43m(\u001b[49m\u001b[43m)\u001b[49m\n\u001b[1;32m    179\u001b[0m \u001b[43m    \u001b[49m\u001b[43mresults\u001b[49m\u001b[38;5;241;43m.\u001b[39;49m\u001b[43madd\u001b[49m\u001b[43m(\u001b[49m\u001b[43mt\u001b[49m\u001b[43m,\u001b[49m\u001b[43m \u001b[49m\u001b[38;5;28;43mself\u001b[39;49m\u001b[38;5;241;43m.\u001b[39;49m\u001b[43m_restore_state\u001b[49m\u001b[43m(\u001b[49m\u001b[43mstate\u001b[49m\u001b[43m,\u001b[49m\u001b[43m \u001b[49m\u001b[43mcopy\u001b[49m\u001b[38;5;241;43m=\u001b[39;49m\u001b[38;5;28;43;01mFalse\u001b[39;49;00m\u001b[43m)\u001b[49m\u001b[43m)\u001b[49m\n",
      "File \u001b[0;32m~/Workspace/PHY707/quantum-computing-env/lib/python3.12/site-packages/qutip/solver/integrator/integrator.py:201\u001b[0m, in \u001b[0;36mIntegrator.run\u001b[0;34m(self, tlist)\u001b[0m\n\u001b[1;32m    187\u001b[0m \u001b[38;5;250m\u001b[39m\u001b[38;5;124;03m\"\"\"\u001b[39;00m\n\u001b[1;32m    188\u001b[0m \u001b[38;5;124;03mIntegrate the system yielding the state for each times in tlist.\u001b[39;00m\n\u001b[1;32m    189\u001b[0m \n\u001b[0;32m   (...)\u001b[0m\n\u001b[1;32m    198\u001b[0m \u001b[38;5;124;03m    The state of the solver at each ``t`` of tlist.\u001b[39;00m\n\u001b[1;32m    199\u001b[0m \u001b[38;5;124;03m\"\"\"\u001b[39;00m\n\u001b[1;32m    200\u001b[0m \u001b[38;5;28;01mfor\u001b[39;00m t \u001b[38;5;129;01min\u001b[39;00m tlist[\u001b[38;5;241m1\u001b[39m:]:\n\u001b[0;32m--> 201\u001b[0m     \u001b[38;5;28;01myield\u001b[39;00m \u001b[38;5;28;43mself\u001b[39;49m\u001b[38;5;241;43m.\u001b[39;49m\u001b[43mintegrate\u001b[49m\u001b[43m(\u001b[49m\u001b[43mt\u001b[49m\u001b[43m,\u001b[49m\u001b[43m \u001b[49m\u001b[38;5;28;43;01mFalse\u001b[39;49;00m\u001b[43m)\u001b[49m\n",
      "File \u001b[0;32m~/Workspace/PHY707/quantum-computing-env/lib/python3.12/site-packages/qutip/solver/integrator/scipy_integrator.py:111\u001b[0m, in \u001b[0;36mIntegratorScipyAdams.integrate\u001b[0;34m(self, t, copy)\u001b[0m\n\u001b[1;32m    109\u001b[0m \u001b[38;5;28;01mif\u001b[39;00m t \u001b[38;5;241m!=\u001b[39m \u001b[38;5;28mself\u001b[39m\u001b[38;5;241m.\u001b[39m_ode_solver\u001b[38;5;241m.\u001b[39mt:\n\u001b[1;32m    110\u001b[0m     \u001b[38;5;28mself\u001b[39m\u001b[38;5;241m.\u001b[39m_ode_solver\u001b[38;5;241m.\u001b[39mintegrate(t)\n\u001b[0;32m--> 111\u001b[0m \u001b[38;5;28;01mreturn\u001b[39;00m \u001b[38;5;28;43mself\u001b[39;49m\u001b[38;5;241;43m.\u001b[39;49m\u001b[43mget_state\u001b[49m\u001b[43m(\u001b[49m\u001b[43mcopy\u001b[49m\u001b[43m)\u001b[49m\n",
      "File \u001b[0;32m~/Workspace/PHY707/quantum-computing-env/lib/python3.12/site-packages/qutip/solver/integrator/scipy_integrator.py:86\u001b[0m, in \u001b[0;36mIntegratorScipyAdams.get_state\u001b[0;34m(self, copy)\u001b[0m\n\u001b[1;32m     84\u001b[0m \u001b[38;5;28;01mif\u001b[39;00m \u001b[38;5;129;01mnot\u001b[39;00m \u001b[38;5;28mself\u001b[39m\u001b[38;5;241m.\u001b[39m_is_set:\n\u001b[1;32m     85\u001b[0m     \u001b[38;5;28;01mraise\u001b[39;00m IntegratorException(\u001b[38;5;124m\"\u001b[39m\u001b[38;5;124mThe state is not initialted\u001b[39m\u001b[38;5;124m\"\u001b[39m)\n\u001b[0;32m---> 86\u001b[0m \u001b[38;5;28;43mself\u001b[39;49m\u001b[38;5;241;43m.\u001b[39;49m\u001b[43m_check_failed_integration\u001b[49m\u001b[43m(\u001b[49m\u001b[43m)\u001b[49m\n\u001b[1;32m     87\u001b[0m t \u001b[38;5;241m=\u001b[39m \u001b[38;5;28mself\u001b[39m\u001b[38;5;241m.\u001b[39m_ode_solver\u001b[38;5;241m.\u001b[39mt\n\u001b[1;32m     88\u001b[0m \u001b[38;5;28;01mif\u001b[39;00m \u001b[38;5;28mself\u001b[39m\u001b[38;5;241m.\u001b[39m_mat_state:\n",
      "File \u001b[0;32m~/Workspace/PHY707/quantum-computing-env/lib/python3.12/site-packages/qutip/solver/integrator/scipy_integrator.py:157\u001b[0m, in \u001b[0;36mIntegratorScipyAdams._check_failed_integration\u001b[0;34m(self)\u001b[0m\n\u001b[1;32m    145\u001b[0m     \u001b[38;5;28;01mreturn\u001b[39;00m\n\u001b[1;32m    146\u001b[0m messages \u001b[38;5;241m=\u001b[39m {\n\u001b[1;32m    147\u001b[0m     \u001b[38;5;241m-\u001b[39m\u001b[38;5;241m1\u001b[39m: \u001b[38;5;124m'\u001b[39m\u001b[38;5;124mExcess work done on this call. Try to increasing \u001b[39m\u001b[38;5;124m'\u001b[39m\n\u001b[1;32m    148\u001b[0m         \u001b[38;5;124m'\u001b[39m\u001b[38;5;124mthe nsteps parameter in the Options class\u001b[39m\u001b[38;5;124m'\u001b[39m,\n\u001b[0;32m   (...)\u001b[0m\n\u001b[1;32m    155\u001b[0m         \u001b[38;5;124m'\u001b[39m\u001b[38;5;124m component i vanished, and ATOL or ATOL(i) = 0.)\u001b[39m\u001b[38;5;124m'\u001b[39m\n\u001b[1;32m    156\u001b[0m }\n\u001b[0;32m--> 157\u001b[0m \u001b[38;5;28;01mraise\u001b[39;00m IntegratorException(\n\u001b[1;32m    158\u001b[0m     messages[\u001b[38;5;28mself\u001b[39m\u001b[38;5;241m.\u001b[39m_ode_solver\u001b[38;5;241m.\u001b[39m_integrator\u001b[38;5;241m.\u001b[39mistate]\n\u001b[1;32m    159\u001b[0m )\n",
      "\u001b[0;31mIntegratorException\u001b[0m: Excess work done on this call. Try to increasing the nsteps parameter in the Options class"
     ]
    }
   ],
   "source": [
    "circ = QuantumCircuit(2)\n",
    "circ.h(0)\n",
    "circ.cx(0,1)\n",
    "#processor.cz_gate.omega *= 2\n",
    "#processor.cz_gate.delta *= 2\n",
    "processor.cz_gate.T*=2\n",
    "processor.cz_gate.tau*=2\n",
    "circ_tr = transpile(circ ,basis_gates=processor.native_gate_set, optimization_level=0)\n",
    "run(circ_tr, pulse_backend, qiskit_backend)"
   ]
  }
 ],
 "metadata": {
  "kernelspec": {
   "display_name": "quantum-computing-env",
   "language": "python",
   "name": "python3"
  },
  "language_info": {
   "codemirror_mode": {
    "name": "ipython",
    "version": 3
   },
   "file_extension": ".py",
   "mimetype": "text/x-python",
   "name": "python",
   "nbconvert_exporter": "python",
   "pygments_lexer": "ipython3",
   "version": "3.12.4"
  }
 },
 "nbformat": 4,
 "nbformat_minor": 2
}
