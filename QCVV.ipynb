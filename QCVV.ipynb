{
 "cells": [
  {
   "cell_type": "code",
   "execution_count": null,
   "metadata": {},
   "outputs": [],
   "source": [
    "from qiskit_experiments.library import T1\n",
    "from qiskit_experiments.library import StandardRB\n",
    "from qiskit_experiments.framework import ParallelExperiment\n",
    "import numpy as np\n",
    "from qiskit_ibm_runtime.fake_provider import FakePerth\n",
    "from qiskit_aer import AerSimulator\n",
    "from qiskit.qobj.utils import MeasLevel"
   ]
  },
  {
   "cell_type": "code",
   "execution_count": null,
   "metadata": {},
   "outputs": [],
   "source": [
    "%run NeutralAtomProcessor.ipynb"
   ]
  },
  {
   "cell_type": "code",
   "execution_count": null,
   "metadata": {},
   "outputs": [],
   "source": [
    "lengths = np.arange(1, 500, 25)\n",
    "num_samples = 10\n",
    "seed = 1010\n",
    "qubits = [0]\n",
    "\n",
    "processor_1q = NeutralAtomProcessor(1)\n",
    "pulse_backend_1q = QiskitPulseSimulator(processor_1q)\n",
    "\n",
    "experiment_1q = StandardRB(qubits, lengths, num_samples=num_samples, seed=seed)\n",
    "experiment_1q.set_transpile_options(optimization_level=1, basis_gates=[\"rx\",\"rz\",\"cz\"])\n",
    "experiment_1q._set_backend(pulse_backend_1q)\n",
    "experiment_1q._finalize()\n",
    "transpiled_circuits = experiment_1q._transpiled_circuits()\n",
    "\n",
    "print(transpiled_circuits[0])"
   ]
  },
  {
   "cell_type": "code",
   "execution_count": null,
   "metadata": {},
   "outputs": [],
   "source": [
    "experiment_1q.analysis.set_options(outcome=\"0\")\n",
    "experiment_data_1q = experiment_1q._initialize_experiment_data()\n",
    "run_opts = experiment_1q.run_options.__dict__\n",
    "_ = [this_circ.remove_final_measurements() for this_circ in transpiled_circuits]\n",
    "jobs_1q = [experiment_1q._run_jobs(this_circ, **run_opts)[0] for this_circ in transpiled_circuits]\n",
    "\n",
    "for i, job in enumerate(jobs_1q):\n",
    "    d = job.result().results[0].header.to_dict()\n",
    "    d[\"metadata\"] = transpiled_circuits[i].metadata\n",
    "    job.result().results[0].header.from_dict(d)"
   ]
  },
  {
   "cell_type": "code",
   "execution_count": null,
   "metadata": {},
   "outputs": [],
   "source": [
    "experiment_data_1q.add_jobs(jobs_1q, timeout=None)\n",
    "experiment_1q.analysis.set_options(outcome=\"0\") # qutip−qip uses ”0” instead of ”00”\n",
    "expdata_1q = experiment_1q.analysis.run(experiment_data_1q, gate_error_ratio=False)\n",
    "results_1q = expdata_1q.analysis_results()\n",
    "display(expdata_1q.figure(0))"
   ]
  },
  {
   "cell_type": "code",
   "execution_count": null,
   "metadata": {},
   "outputs": [],
   "source": [
    "lengths = np.arange(1, 500, 25)\n",
    "num_samples = 10\n",
    "seed = 1010\n",
    "qubits = (0, 1)\n",
    "\n",
    "print(qubits, lengths, num_samples, seed)\n",
    "processor_2q = NeutralAtomProcessor(2)\n",
    "pulse_backend_2q = QiskitPulseSimulator(processor_2q)\n",
    "\n",
    "experiment_2q = StandardRB(qubits, lengths, num_samples=num_samples, seed=seed)\n",
    "experiment_2q.set_transpile_options(optimization_level=1, basis_gates=[\"rx\",\"rz\",\"cz\"])\n",
    "experiment_2q._set_backend(pulse_backend_2q)\n",
    "experiment_2q._finalize()\n",
    "transpiled_circuits = experiment_2q._transpiled_circuits()\n",
    "\n",
    "print(transpiled_circuits[0])"
   ]
  },
  {
   "cell_type": "code",
   "execution_count": null,
   "metadata": {},
   "outputs": [],
   "source": [
    "experiment_data_2q = experiment_2q._initialize_experiment_data()\n",
    "run_opts = experiment_2q.run_options.__dict__\n",
    "_ = [this_circ.remove_final_measurements() for this_circ in transpiled_circuits]\n",
    "jobs_2q = [experiment_2q._run_jobs(this_circ, **run_opts)[0] for this_circ in transpiled_circuits]\n",
    "\n",
    "for i, job in enumerate(jobs_2q):\n",
    "    d = job.result().results[0].header.to_dict()\n",
    "    d[\"metadata\"] = transpiled_circuits[i].metadata\n",
    "    job.result().results[0].header.from_dict(d)"
   ]
  },
  {
   "cell_type": "code",
   "execution_count": null,
   "metadata": {},
   "outputs": [],
   "source": [
    "experiment_data_2q.add_jobs(jobs_2q, timeout=None)\n",
    "experiment_2q.analysis.set_options(outcome=\"0\") # qutip−qip uses ”0” instead of ”00”\n",
    "expdata_2q = experiment_2q.analysis.run(experiment_data_2q, gate_error_ratio=False)\n",
    "results_2q = expdata_2q.analysis_results()\n",
    "display(expdata_2q.figure(0))"
   ]
  }
 ],
 "metadata": {
  "kernelspec": {
   "display_name": "quantum-computing-env",
   "language": "python",
   "name": "python3"
  },
  "language_info": {
   "codemirror_mode": {
    "name": "ipython",
    "version": 3
   },
   "file_extension": ".py",
   "mimetype": "text/x-python",
   "name": "python",
   "nbconvert_exporter": "python",
   "pygments_lexer": "ipython3",
   "version": "3.12.4"
  }
 },
 "nbformat": 4,
 "nbformat_minor": 2
}
